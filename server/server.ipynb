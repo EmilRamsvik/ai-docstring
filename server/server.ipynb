{
  "nbformat": 4,
  "nbformat_minor": 0,
  "metadata": {
    "colab": {
      "name": "server.ipynb",
      "provenance": [],
      "collapsed_sections": [],
      "toc_visible": true
    },
    "kernelspec": {
      "name": "python3",
      "display_name": "Python 3"
    },
    "accelerator": "GPU",
    "widgets": {
      "application/vnd.jupyter.widget-state+json": {
        "63f823cffa35493691ea3664b8699e46": {
          "model_module": "@jupyter-widgets/controls",
          "model_name": "HBoxModel",
          "state": {
            "_view_name": "HBoxView",
            "_dom_classes": [],
            "_model_name": "HBoxModel",
            "_view_module": "@jupyter-widgets/controls",
            "_model_module_version": "1.5.0",
            "_view_count": null,
            "_view_module_version": "1.5.0",
            "box_style": "",
            "layout": "IPY_MODEL_8fa0957de297423590b944fd17f54907",
            "_model_module": "@jupyter-widgets/controls",
            "children": [
              "IPY_MODEL_2826cd7e71f74f40ab382942ade1fc41",
              "IPY_MODEL_e32e8965f2fe4656a2d59ed5c655659d"
            ]
          }
        },
        "8fa0957de297423590b944fd17f54907": {
          "model_module": "@jupyter-widgets/base",
          "model_name": "LayoutModel",
          "state": {
            "_view_name": "LayoutView",
            "grid_template_rows": null,
            "right": null,
            "justify_content": null,
            "_view_module": "@jupyter-widgets/base",
            "overflow": null,
            "_model_module_version": "1.2.0",
            "_view_count": null,
            "flex_flow": null,
            "width": null,
            "min_width": null,
            "border": null,
            "align_items": null,
            "bottom": null,
            "_model_module": "@jupyter-widgets/base",
            "top": null,
            "grid_column": null,
            "overflow_y": null,
            "overflow_x": null,
            "grid_auto_flow": null,
            "grid_area": null,
            "grid_template_columns": null,
            "flex": null,
            "_model_name": "LayoutModel",
            "justify_items": null,
            "grid_row": null,
            "max_height": null,
            "align_content": null,
            "visibility": null,
            "align_self": null,
            "height": null,
            "min_height": null,
            "padding": null,
            "grid_auto_rows": null,
            "grid_gap": null,
            "max_width": null,
            "order": null,
            "_view_module_version": "1.2.0",
            "grid_template_areas": null,
            "object_position": null,
            "object_fit": null,
            "grid_auto_columns": null,
            "margin": null,
            "display": null,
            "left": null
          }
        },
        "2826cd7e71f74f40ab382942ade1fc41": {
          "model_module": "@jupyter-widgets/controls",
          "model_name": "FloatProgressModel",
          "state": {
            "_view_name": "ProgressView",
            "style": "IPY_MODEL_628b953cff414ad394f4f2062db91895",
            "_dom_classes": [],
            "description": "Downloading: 100%",
            "_model_name": "FloatProgressModel",
            "bar_style": "success",
            "max": 498,
            "_view_module": "@jupyter-widgets/controls",
            "_model_module_version": "1.5.0",
            "value": 498,
            "_view_count": null,
            "_view_module_version": "1.5.0",
            "orientation": "horizontal",
            "min": 0,
            "description_tooltip": null,
            "_model_module": "@jupyter-widgets/controls",
            "layout": "IPY_MODEL_80a7e8e138a74d33b26f80cbbb6b67c9"
          }
        },
        "e32e8965f2fe4656a2d59ed5c655659d": {
          "model_module": "@jupyter-widgets/controls",
          "model_name": "HTMLModel",
          "state": {
            "_view_name": "HTMLView",
            "style": "IPY_MODEL_c3a72d8c88fd4335ae41d40c69ced519",
            "_dom_classes": [],
            "description": "",
            "_model_name": "HTMLModel",
            "placeholder": "​",
            "_view_module": "@jupyter-widgets/controls",
            "_model_module_version": "1.5.0",
            "value": " 498/498 [00:00&lt;00:00, 745B/s]",
            "_view_count": null,
            "_view_module_version": "1.5.0",
            "description_tooltip": null,
            "_model_module": "@jupyter-widgets/controls",
            "layout": "IPY_MODEL_b81ea8faedc4495089367ddfd5c53816"
          }
        },
        "628b953cff414ad394f4f2062db91895": {
          "model_module": "@jupyter-widgets/controls",
          "model_name": "ProgressStyleModel",
          "state": {
            "_view_name": "StyleView",
            "_model_name": "ProgressStyleModel",
            "description_width": "initial",
            "_view_module": "@jupyter-widgets/base",
            "_model_module_version": "1.5.0",
            "_view_count": null,
            "_view_module_version": "1.2.0",
            "bar_color": null,
            "_model_module": "@jupyter-widgets/controls"
          }
        },
        "80a7e8e138a74d33b26f80cbbb6b67c9": {
          "model_module": "@jupyter-widgets/base",
          "model_name": "LayoutModel",
          "state": {
            "_view_name": "LayoutView",
            "grid_template_rows": null,
            "right": null,
            "justify_content": null,
            "_view_module": "@jupyter-widgets/base",
            "overflow": null,
            "_model_module_version": "1.2.0",
            "_view_count": null,
            "flex_flow": null,
            "width": null,
            "min_width": null,
            "border": null,
            "align_items": null,
            "bottom": null,
            "_model_module": "@jupyter-widgets/base",
            "top": null,
            "grid_column": null,
            "overflow_y": null,
            "overflow_x": null,
            "grid_auto_flow": null,
            "grid_area": null,
            "grid_template_columns": null,
            "flex": null,
            "_model_name": "LayoutModel",
            "justify_items": null,
            "grid_row": null,
            "max_height": null,
            "align_content": null,
            "visibility": null,
            "align_self": null,
            "height": null,
            "min_height": null,
            "padding": null,
            "grid_auto_rows": null,
            "grid_gap": null,
            "max_width": null,
            "order": null,
            "_view_module_version": "1.2.0",
            "grid_template_areas": null,
            "object_position": null,
            "object_fit": null,
            "grid_auto_columns": null,
            "margin": null,
            "display": null,
            "left": null
          }
        },
        "c3a72d8c88fd4335ae41d40c69ced519": {
          "model_module": "@jupyter-widgets/controls",
          "model_name": "DescriptionStyleModel",
          "state": {
            "_view_name": "StyleView",
            "_model_name": "DescriptionStyleModel",
            "description_width": "",
            "_view_module": "@jupyter-widgets/base",
            "_model_module_version": "1.5.0",
            "_view_count": null,
            "_view_module_version": "1.2.0",
            "_model_module": "@jupyter-widgets/controls"
          }
        },
        "b81ea8faedc4495089367ddfd5c53816": {
          "model_module": "@jupyter-widgets/base",
          "model_name": "LayoutModel",
          "state": {
            "_view_name": "LayoutView",
            "grid_template_rows": null,
            "right": null,
            "justify_content": null,
            "_view_module": "@jupyter-widgets/base",
            "overflow": null,
            "_model_module_version": "1.2.0",
            "_view_count": null,
            "flex_flow": null,
            "width": null,
            "min_width": null,
            "border": null,
            "align_items": null,
            "bottom": null,
            "_model_module": "@jupyter-widgets/base",
            "top": null,
            "grid_column": null,
            "overflow_y": null,
            "overflow_x": null,
            "grid_auto_flow": null,
            "grid_area": null,
            "grid_template_columns": null,
            "flex": null,
            "_model_name": "LayoutModel",
            "justify_items": null,
            "grid_row": null,
            "max_height": null,
            "align_content": null,
            "visibility": null,
            "align_self": null,
            "height": null,
            "min_height": null,
            "padding": null,
            "grid_auto_rows": null,
            "grid_gap": null,
            "max_width": null,
            "order": null,
            "_view_module_version": "1.2.0",
            "grid_template_areas": null,
            "object_position": null,
            "object_fit": null,
            "grid_auto_columns": null,
            "margin": null,
            "display": null,
            "left": null
          }
        },
        "f5ffdeb8869743bc8d38c8dec5f643aa": {
          "model_module": "@jupyter-widgets/controls",
          "model_name": "HBoxModel",
          "state": {
            "_view_name": "HBoxView",
            "_dom_classes": [],
            "_model_name": "HBoxModel",
            "_view_module": "@jupyter-widgets/controls",
            "_model_module_version": "1.5.0",
            "_view_count": null,
            "_view_module_version": "1.5.0",
            "box_style": "",
            "layout": "IPY_MODEL_e0003ceea25b406c80d113842423b55a",
            "_model_module": "@jupyter-widgets/controls",
            "children": [
              "IPY_MODEL_8cfbe640681e498f95cc2060ccac8830",
              "IPY_MODEL_7a88cb93bb7d4018b0720d39dd0aeae6"
            ]
          }
        },
        "e0003ceea25b406c80d113842423b55a": {
          "model_module": "@jupyter-widgets/base",
          "model_name": "LayoutModel",
          "state": {
            "_view_name": "LayoutView",
            "grid_template_rows": null,
            "right": null,
            "justify_content": null,
            "_view_module": "@jupyter-widgets/base",
            "overflow": null,
            "_model_module_version": "1.2.0",
            "_view_count": null,
            "flex_flow": null,
            "width": null,
            "min_width": null,
            "border": null,
            "align_items": null,
            "bottom": null,
            "_model_module": "@jupyter-widgets/base",
            "top": null,
            "grid_column": null,
            "overflow_y": null,
            "overflow_x": null,
            "grid_auto_flow": null,
            "grid_area": null,
            "grid_template_columns": null,
            "flex": null,
            "_model_name": "LayoutModel",
            "justify_items": null,
            "grid_row": null,
            "max_height": null,
            "align_content": null,
            "visibility": null,
            "align_self": null,
            "height": null,
            "min_height": null,
            "padding": null,
            "grid_auto_rows": null,
            "grid_gap": null,
            "max_width": null,
            "order": null,
            "_view_module_version": "1.2.0",
            "grid_template_areas": null,
            "object_position": null,
            "object_fit": null,
            "grid_auto_columns": null,
            "margin": null,
            "display": null,
            "left": null
          }
        },
        "8cfbe640681e498f95cc2060ccac8830": {
          "model_module": "@jupyter-widgets/controls",
          "model_name": "FloatProgressModel",
          "state": {
            "_view_name": "ProgressView",
            "style": "IPY_MODEL_b0ac37aff24f46f783f90e1b55e5c9b2",
            "_dom_classes": [],
            "description": "Downloading: 100%",
            "_model_name": "FloatProgressModel",
            "bar_style": "success",
            "max": 898822,
            "_view_module": "@jupyter-widgets/controls",
            "_model_module_version": "1.5.0",
            "value": 898822,
            "_view_count": null,
            "_view_module_version": "1.5.0",
            "orientation": "horizontal",
            "min": 0,
            "description_tooltip": null,
            "_model_module": "@jupyter-widgets/controls",
            "layout": "IPY_MODEL_25c90514cb99498bb920252a4da9811e"
          }
        },
        "7a88cb93bb7d4018b0720d39dd0aeae6": {
          "model_module": "@jupyter-widgets/controls",
          "model_name": "HTMLModel",
          "state": {
            "_view_name": "HTMLView",
            "style": "IPY_MODEL_db32c8fbb3cf4aedb0c5f61c8b6b01e7",
            "_dom_classes": [],
            "description": "",
            "_model_name": "HTMLModel",
            "placeholder": "​",
            "_view_module": "@jupyter-widgets/controls",
            "_model_module_version": "1.5.0",
            "value": " 899k/899k [00:03&lt;00:00, 263kB/s]",
            "_view_count": null,
            "_view_module_version": "1.5.0",
            "description_tooltip": null,
            "_model_module": "@jupyter-widgets/controls",
            "layout": "IPY_MODEL_5293706c515d4126bc70af096aa8923b"
          }
        },
        "b0ac37aff24f46f783f90e1b55e5c9b2": {
          "model_module": "@jupyter-widgets/controls",
          "model_name": "ProgressStyleModel",
          "state": {
            "_view_name": "StyleView",
            "_model_name": "ProgressStyleModel",
            "description_width": "initial",
            "_view_module": "@jupyter-widgets/base",
            "_model_module_version": "1.5.0",
            "_view_count": null,
            "_view_module_version": "1.2.0",
            "bar_color": null,
            "_model_module": "@jupyter-widgets/controls"
          }
        },
        "25c90514cb99498bb920252a4da9811e": {
          "model_module": "@jupyter-widgets/base",
          "model_name": "LayoutModel",
          "state": {
            "_view_name": "LayoutView",
            "grid_template_rows": null,
            "right": null,
            "justify_content": null,
            "_view_module": "@jupyter-widgets/base",
            "overflow": null,
            "_model_module_version": "1.2.0",
            "_view_count": null,
            "flex_flow": null,
            "width": null,
            "min_width": null,
            "border": null,
            "align_items": null,
            "bottom": null,
            "_model_module": "@jupyter-widgets/base",
            "top": null,
            "grid_column": null,
            "overflow_y": null,
            "overflow_x": null,
            "grid_auto_flow": null,
            "grid_area": null,
            "grid_template_columns": null,
            "flex": null,
            "_model_name": "LayoutModel",
            "justify_items": null,
            "grid_row": null,
            "max_height": null,
            "align_content": null,
            "visibility": null,
            "align_self": null,
            "height": null,
            "min_height": null,
            "padding": null,
            "grid_auto_rows": null,
            "grid_gap": null,
            "max_width": null,
            "order": null,
            "_view_module_version": "1.2.0",
            "grid_template_areas": null,
            "object_position": null,
            "object_fit": null,
            "grid_auto_columns": null,
            "margin": null,
            "display": null,
            "left": null
          }
        },
        "db32c8fbb3cf4aedb0c5f61c8b6b01e7": {
          "model_module": "@jupyter-widgets/controls",
          "model_name": "DescriptionStyleModel",
          "state": {
            "_view_name": "StyleView",
            "_model_name": "DescriptionStyleModel",
            "description_width": "",
            "_view_module": "@jupyter-widgets/base",
            "_model_module_version": "1.5.0",
            "_view_count": null,
            "_view_module_version": "1.2.0",
            "_model_module": "@jupyter-widgets/controls"
          }
        },
        "5293706c515d4126bc70af096aa8923b": {
          "model_module": "@jupyter-widgets/base",
          "model_name": "LayoutModel",
          "state": {
            "_view_name": "LayoutView",
            "grid_template_rows": null,
            "right": null,
            "justify_content": null,
            "_view_module": "@jupyter-widgets/base",
            "overflow": null,
            "_model_module_version": "1.2.0",
            "_view_count": null,
            "flex_flow": null,
            "width": null,
            "min_width": null,
            "border": null,
            "align_items": null,
            "bottom": null,
            "_model_module": "@jupyter-widgets/base",
            "top": null,
            "grid_column": null,
            "overflow_y": null,
            "overflow_x": null,
            "grid_auto_flow": null,
            "grid_area": null,
            "grid_template_columns": null,
            "flex": null,
            "_model_name": "LayoutModel",
            "justify_items": null,
            "grid_row": null,
            "max_height": null,
            "align_content": null,
            "visibility": null,
            "align_self": null,
            "height": null,
            "min_height": null,
            "padding": null,
            "grid_auto_rows": null,
            "grid_gap": null,
            "max_width": null,
            "order": null,
            "_view_module_version": "1.2.0",
            "grid_template_areas": null,
            "object_position": null,
            "object_fit": null,
            "grid_auto_columns": null,
            "margin": null,
            "display": null,
            "left": null
          }
        },
        "3cd6258e24864660af3da4a5ffc66089": {
          "model_module": "@jupyter-widgets/controls",
          "model_name": "HBoxModel",
          "state": {
            "_view_name": "HBoxView",
            "_dom_classes": [],
            "_model_name": "HBoxModel",
            "_view_module": "@jupyter-widgets/controls",
            "_model_module_version": "1.5.0",
            "_view_count": null,
            "_view_module_version": "1.5.0",
            "box_style": "",
            "layout": "IPY_MODEL_11440034a8e24f0293c7c40124cb740c",
            "_model_module": "@jupyter-widgets/controls",
            "children": [
              "IPY_MODEL_a529221c50fe4d4f91fd9ab1dfae29fd",
              "IPY_MODEL_186c578005e3408d8b2c58c90c7665db"
            ]
          }
        },
        "11440034a8e24f0293c7c40124cb740c": {
          "model_module": "@jupyter-widgets/base",
          "model_name": "LayoutModel",
          "state": {
            "_view_name": "LayoutView",
            "grid_template_rows": null,
            "right": null,
            "justify_content": null,
            "_view_module": "@jupyter-widgets/base",
            "overflow": null,
            "_model_module_version": "1.2.0",
            "_view_count": null,
            "flex_flow": null,
            "width": null,
            "min_width": null,
            "border": null,
            "align_items": null,
            "bottom": null,
            "_model_module": "@jupyter-widgets/base",
            "top": null,
            "grid_column": null,
            "overflow_y": null,
            "overflow_x": null,
            "grid_auto_flow": null,
            "grid_area": null,
            "grid_template_columns": null,
            "flex": null,
            "_model_name": "LayoutModel",
            "justify_items": null,
            "grid_row": null,
            "max_height": null,
            "align_content": null,
            "visibility": null,
            "align_self": null,
            "height": null,
            "min_height": null,
            "padding": null,
            "grid_auto_rows": null,
            "grid_gap": null,
            "max_width": null,
            "order": null,
            "_view_module_version": "1.2.0",
            "grid_template_areas": null,
            "object_position": null,
            "object_fit": null,
            "grid_auto_columns": null,
            "margin": null,
            "display": null,
            "left": null
          }
        },
        "a529221c50fe4d4f91fd9ab1dfae29fd": {
          "model_module": "@jupyter-widgets/controls",
          "model_name": "FloatProgressModel",
          "state": {
            "_view_name": "ProgressView",
            "style": "IPY_MODEL_8758786b90fb41408c0d26b436760f40",
            "_dom_classes": [],
            "description": "Downloading: 100%",
            "_model_name": "FloatProgressModel",
            "bar_style": "success",
            "max": 456318,
            "_view_module": "@jupyter-widgets/controls",
            "_model_module_version": "1.5.0",
            "value": 456318,
            "_view_count": null,
            "_view_module_version": "1.5.0",
            "orientation": "horizontal",
            "min": 0,
            "description_tooltip": null,
            "_model_module": "@jupyter-widgets/controls",
            "layout": "IPY_MODEL_66a6bde10d1347b1a585c511285a33db"
          }
        },
        "186c578005e3408d8b2c58c90c7665db": {
          "model_module": "@jupyter-widgets/controls",
          "model_name": "HTMLModel",
          "state": {
            "_view_name": "HTMLView",
            "style": "IPY_MODEL_1c72366b709242c684df29f6abb4a855",
            "_dom_classes": [],
            "description": "",
            "_model_name": "HTMLModel",
            "placeholder": "​",
            "_view_module": "@jupyter-widgets/controls",
            "_model_module_version": "1.5.0",
            "value": " 456k/456k [00:02&lt;00:00, 227kB/s]",
            "_view_count": null,
            "_view_module_version": "1.5.0",
            "description_tooltip": null,
            "_model_module": "@jupyter-widgets/controls",
            "layout": "IPY_MODEL_b4b5656dbc82467db716c9179510e092"
          }
        },
        "8758786b90fb41408c0d26b436760f40": {
          "model_module": "@jupyter-widgets/controls",
          "model_name": "ProgressStyleModel",
          "state": {
            "_view_name": "StyleView",
            "_model_name": "ProgressStyleModel",
            "description_width": "initial",
            "_view_module": "@jupyter-widgets/base",
            "_model_module_version": "1.5.0",
            "_view_count": null,
            "_view_module_version": "1.2.0",
            "bar_color": null,
            "_model_module": "@jupyter-widgets/controls"
          }
        },
        "66a6bde10d1347b1a585c511285a33db": {
          "model_module": "@jupyter-widgets/base",
          "model_name": "LayoutModel",
          "state": {
            "_view_name": "LayoutView",
            "grid_template_rows": null,
            "right": null,
            "justify_content": null,
            "_view_module": "@jupyter-widgets/base",
            "overflow": null,
            "_model_module_version": "1.2.0",
            "_view_count": null,
            "flex_flow": null,
            "width": null,
            "min_width": null,
            "border": null,
            "align_items": null,
            "bottom": null,
            "_model_module": "@jupyter-widgets/base",
            "top": null,
            "grid_column": null,
            "overflow_y": null,
            "overflow_x": null,
            "grid_auto_flow": null,
            "grid_area": null,
            "grid_template_columns": null,
            "flex": null,
            "_model_name": "LayoutModel",
            "justify_items": null,
            "grid_row": null,
            "max_height": null,
            "align_content": null,
            "visibility": null,
            "align_self": null,
            "height": null,
            "min_height": null,
            "padding": null,
            "grid_auto_rows": null,
            "grid_gap": null,
            "max_width": null,
            "order": null,
            "_view_module_version": "1.2.0",
            "grid_template_areas": null,
            "object_position": null,
            "object_fit": null,
            "grid_auto_columns": null,
            "margin": null,
            "display": null,
            "left": null
          }
        },
        "1c72366b709242c684df29f6abb4a855": {
          "model_module": "@jupyter-widgets/controls",
          "model_name": "DescriptionStyleModel",
          "state": {
            "_view_name": "StyleView",
            "_model_name": "DescriptionStyleModel",
            "description_width": "",
            "_view_module": "@jupyter-widgets/base",
            "_model_module_version": "1.5.0",
            "_view_count": null,
            "_view_module_version": "1.2.0",
            "_model_module": "@jupyter-widgets/controls"
          }
        },
        "b4b5656dbc82467db716c9179510e092": {
          "model_module": "@jupyter-widgets/base",
          "model_name": "LayoutModel",
          "state": {
            "_view_name": "LayoutView",
            "grid_template_rows": null,
            "right": null,
            "justify_content": null,
            "_view_module": "@jupyter-widgets/base",
            "overflow": null,
            "_model_module_version": "1.2.0",
            "_view_count": null,
            "flex_flow": null,
            "width": null,
            "min_width": null,
            "border": null,
            "align_items": null,
            "bottom": null,
            "_model_module": "@jupyter-widgets/base",
            "top": null,
            "grid_column": null,
            "overflow_y": null,
            "overflow_x": null,
            "grid_auto_flow": null,
            "grid_area": null,
            "grid_template_columns": null,
            "flex": null,
            "_model_name": "LayoutModel",
            "justify_items": null,
            "grid_row": null,
            "max_height": null,
            "align_content": null,
            "visibility": null,
            "align_self": null,
            "height": null,
            "min_height": null,
            "padding": null,
            "grid_auto_rows": null,
            "grid_gap": null,
            "max_width": null,
            "order": null,
            "_view_module_version": "1.2.0",
            "grid_template_areas": null,
            "object_position": null,
            "object_fit": null,
            "grid_auto_columns": null,
            "margin": null,
            "display": null,
            "left": null
          }
        },
        "17727b6ebece424e9b3a919fa5077e04": {
          "model_module": "@jupyter-widgets/controls",
          "model_name": "HBoxModel",
          "state": {
            "_view_name": "HBoxView",
            "_dom_classes": [],
            "_model_name": "HBoxModel",
            "_view_module": "@jupyter-widgets/controls",
            "_model_module_version": "1.5.0",
            "_view_count": null,
            "_view_module_version": "1.5.0",
            "box_style": "",
            "layout": "IPY_MODEL_a604290854b94eee9002e4246f0eb290",
            "_model_module": "@jupyter-widgets/controls",
            "children": [
              "IPY_MODEL_72b72caa5fcf4d6a8ee8f7ad1f6beb1e",
              "IPY_MODEL_9fa1932ff2744e4a93b8ff83f3d0f78f"
            ]
          }
        },
        "a604290854b94eee9002e4246f0eb290": {
          "model_module": "@jupyter-widgets/base",
          "model_name": "LayoutModel",
          "state": {
            "_view_name": "LayoutView",
            "grid_template_rows": null,
            "right": null,
            "justify_content": null,
            "_view_module": "@jupyter-widgets/base",
            "overflow": null,
            "_model_module_version": "1.2.0",
            "_view_count": null,
            "flex_flow": null,
            "width": null,
            "min_width": null,
            "border": null,
            "align_items": null,
            "bottom": null,
            "_model_module": "@jupyter-widgets/base",
            "top": null,
            "grid_column": null,
            "overflow_y": null,
            "overflow_x": null,
            "grid_auto_flow": null,
            "grid_area": null,
            "grid_template_columns": null,
            "flex": null,
            "_model_name": "LayoutModel",
            "justify_items": null,
            "grid_row": null,
            "max_height": null,
            "align_content": null,
            "visibility": null,
            "align_self": null,
            "height": null,
            "min_height": null,
            "padding": null,
            "grid_auto_rows": null,
            "grid_gap": null,
            "max_width": null,
            "order": null,
            "_view_module_version": "1.2.0",
            "grid_template_areas": null,
            "object_position": null,
            "object_fit": null,
            "grid_auto_columns": null,
            "margin": null,
            "display": null,
            "left": null
          }
        },
        "72b72caa5fcf4d6a8ee8f7ad1f6beb1e": {
          "model_module": "@jupyter-widgets/controls",
          "model_name": "FloatProgressModel",
          "state": {
            "_view_name": "ProgressView",
            "style": "IPY_MODEL_480ae2faecc849a5b6c27c4721424737",
            "_dom_classes": [],
            "description": "Downloading: 100%",
            "_model_name": "FloatProgressModel",
            "bar_style": "success",
            "max": 150,
            "_view_module": "@jupyter-widgets/controls",
            "_model_module_version": "1.5.0",
            "value": 150,
            "_view_count": null,
            "_view_module_version": "1.5.0",
            "orientation": "horizontal",
            "min": 0,
            "description_tooltip": null,
            "_model_module": "@jupyter-widgets/controls",
            "layout": "IPY_MODEL_a2c848dfdb04465196b22f557462c5bc"
          }
        },
        "9fa1932ff2744e4a93b8ff83f3d0f78f": {
          "model_module": "@jupyter-widgets/controls",
          "model_name": "HTMLModel",
          "state": {
            "_view_name": "HTMLView",
            "style": "IPY_MODEL_4850e29cdf5a42398ecefcb3a613a410",
            "_dom_classes": [],
            "description": "",
            "_model_name": "HTMLModel",
            "placeholder": "​",
            "_view_module": "@jupyter-widgets/controls",
            "_model_module_version": "1.5.0",
            "value": " 150/150 [00:00&lt;00:00, 232B/s]",
            "_view_count": null,
            "_view_module_version": "1.5.0",
            "description_tooltip": null,
            "_model_module": "@jupyter-widgets/controls",
            "layout": "IPY_MODEL_7af94766fbc74a479866174a721241df"
          }
        },
        "480ae2faecc849a5b6c27c4721424737": {
          "model_module": "@jupyter-widgets/controls",
          "model_name": "ProgressStyleModel",
          "state": {
            "_view_name": "StyleView",
            "_model_name": "ProgressStyleModel",
            "description_width": "initial",
            "_view_module": "@jupyter-widgets/base",
            "_model_module_version": "1.5.0",
            "_view_count": null,
            "_view_module_version": "1.2.0",
            "bar_color": null,
            "_model_module": "@jupyter-widgets/controls"
          }
        },
        "a2c848dfdb04465196b22f557462c5bc": {
          "model_module": "@jupyter-widgets/base",
          "model_name": "LayoutModel",
          "state": {
            "_view_name": "LayoutView",
            "grid_template_rows": null,
            "right": null,
            "justify_content": null,
            "_view_module": "@jupyter-widgets/base",
            "overflow": null,
            "_model_module_version": "1.2.0",
            "_view_count": null,
            "flex_flow": null,
            "width": null,
            "min_width": null,
            "border": null,
            "align_items": null,
            "bottom": null,
            "_model_module": "@jupyter-widgets/base",
            "top": null,
            "grid_column": null,
            "overflow_y": null,
            "overflow_x": null,
            "grid_auto_flow": null,
            "grid_area": null,
            "grid_template_columns": null,
            "flex": null,
            "_model_name": "LayoutModel",
            "justify_items": null,
            "grid_row": null,
            "max_height": null,
            "align_content": null,
            "visibility": null,
            "align_self": null,
            "height": null,
            "min_height": null,
            "padding": null,
            "grid_auto_rows": null,
            "grid_gap": null,
            "max_width": null,
            "order": null,
            "_view_module_version": "1.2.0",
            "grid_template_areas": null,
            "object_position": null,
            "object_fit": null,
            "grid_auto_columns": null,
            "margin": null,
            "display": null,
            "left": null
          }
        },
        "4850e29cdf5a42398ecefcb3a613a410": {
          "model_module": "@jupyter-widgets/controls",
          "model_name": "DescriptionStyleModel",
          "state": {
            "_view_name": "StyleView",
            "_model_name": "DescriptionStyleModel",
            "description_width": "",
            "_view_module": "@jupyter-widgets/base",
            "_model_module_version": "1.5.0",
            "_view_count": null,
            "_view_module_version": "1.2.0",
            "_model_module": "@jupyter-widgets/controls"
          }
        },
        "7af94766fbc74a479866174a721241df": {
          "model_module": "@jupyter-widgets/base",
          "model_name": "LayoutModel",
          "state": {
            "_view_name": "LayoutView",
            "grid_template_rows": null,
            "right": null,
            "justify_content": null,
            "_view_module": "@jupyter-widgets/base",
            "overflow": null,
            "_model_module_version": "1.2.0",
            "_view_count": null,
            "flex_flow": null,
            "width": null,
            "min_width": null,
            "border": null,
            "align_items": null,
            "bottom": null,
            "_model_module": "@jupyter-widgets/base",
            "top": null,
            "grid_column": null,
            "overflow_y": null,
            "overflow_x": null,
            "grid_auto_flow": null,
            "grid_area": null,
            "grid_template_columns": null,
            "flex": null,
            "_model_name": "LayoutModel",
            "justify_items": null,
            "grid_row": null,
            "max_height": null,
            "align_content": null,
            "visibility": null,
            "align_self": null,
            "height": null,
            "min_height": null,
            "padding": null,
            "grid_auto_rows": null,
            "grid_gap": null,
            "max_width": null,
            "order": null,
            "_view_module_version": "1.2.0",
            "grid_template_areas": null,
            "object_position": null,
            "object_fit": null,
            "grid_auto_columns": null,
            "margin": null,
            "display": null,
            "left": null
          }
        },
        "07afa8e2685044048ecbf143f9cd51a6": {
          "model_module": "@jupyter-widgets/controls",
          "model_name": "HBoxModel",
          "state": {
            "_view_name": "HBoxView",
            "_dom_classes": [],
            "_model_name": "HBoxModel",
            "_view_module": "@jupyter-widgets/controls",
            "_model_module_version": "1.5.0",
            "_view_count": null,
            "_view_module_version": "1.5.0",
            "box_style": "",
            "layout": "IPY_MODEL_9f325989738b4359a6e68949aa926499",
            "_model_module": "@jupyter-widgets/controls",
            "children": [
              "IPY_MODEL_e000504bffe64747a93a8f45b366f92a",
              "IPY_MODEL_5fdb90e5e9b14c689781ee1c6c6d585d"
            ]
          }
        },
        "9f325989738b4359a6e68949aa926499": {
          "model_module": "@jupyter-widgets/base",
          "model_name": "LayoutModel",
          "state": {
            "_view_name": "LayoutView",
            "grid_template_rows": null,
            "right": null,
            "justify_content": null,
            "_view_module": "@jupyter-widgets/base",
            "overflow": null,
            "_model_module_version": "1.2.0",
            "_view_count": null,
            "flex_flow": null,
            "width": null,
            "min_width": null,
            "border": null,
            "align_items": null,
            "bottom": null,
            "_model_module": "@jupyter-widgets/base",
            "top": null,
            "grid_column": null,
            "overflow_y": null,
            "overflow_x": null,
            "grid_auto_flow": null,
            "grid_area": null,
            "grid_template_columns": null,
            "flex": null,
            "_model_name": "LayoutModel",
            "justify_items": null,
            "grid_row": null,
            "max_height": null,
            "align_content": null,
            "visibility": null,
            "align_self": null,
            "height": null,
            "min_height": null,
            "padding": null,
            "grid_auto_rows": null,
            "grid_gap": null,
            "max_width": null,
            "order": null,
            "_view_module_version": "1.2.0",
            "grid_template_areas": null,
            "object_position": null,
            "object_fit": null,
            "grid_auto_columns": null,
            "margin": null,
            "display": null,
            "left": null
          }
        },
        "e000504bffe64747a93a8f45b366f92a": {
          "model_module": "@jupyter-widgets/controls",
          "model_name": "FloatProgressModel",
          "state": {
            "_view_name": "ProgressView",
            "style": "IPY_MODEL_606617487a094d14bbad2dde22570bdd",
            "_dom_classes": [],
            "description": "Downloading: 100%",
            "_model_name": "FloatProgressModel",
            "bar_style": "success",
            "max": 25,
            "_view_module": "@jupyter-widgets/controls",
            "_model_module_version": "1.5.0",
            "value": 25,
            "_view_count": null,
            "_view_module_version": "1.5.0",
            "orientation": "horizontal",
            "min": 0,
            "description_tooltip": null,
            "_model_module": "@jupyter-widgets/controls",
            "layout": "IPY_MODEL_06137aabddcb468fbb63ce5635e54a4a"
          }
        },
        "5fdb90e5e9b14c689781ee1c6c6d585d": {
          "model_module": "@jupyter-widgets/controls",
          "model_name": "HTMLModel",
          "state": {
            "_view_name": "HTMLView",
            "style": "IPY_MODEL_96533f2cc3c9484ab3fee8b9b15bdc78",
            "_dom_classes": [],
            "description": "",
            "_model_name": "HTMLModel",
            "placeholder": "​",
            "_view_module": "@jupyter-widgets/controls",
            "_model_module_version": "1.5.0",
            "value": " 25.0/25.0 [00:00&lt;00:00, 58.4B/s]",
            "_view_count": null,
            "_view_module_version": "1.5.0",
            "description_tooltip": null,
            "_model_module": "@jupyter-widgets/controls",
            "layout": "IPY_MODEL_b8b801e9b06b468d9ec52ac423338832"
          }
        },
        "606617487a094d14bbad2dde22570bdd": {
          "model_module": "@jupyter-widgets/controls",
          "model_name": "ProgressStyleModel",
          "state": {
            "_view_name": "StyleView",
            "_model_name": "ProgressStyleModel",
            "description_width": "initial",
            "_view_module": "@jupyter-widgets/base",
            "_model_module_version": "1.5.0",
            "_view_count": null,
            "_view_module_version": "1.2.0",
            "bar_color": null,
            "_model_module": "@jupyter-widgets/controls"
          }
        },
        "06137aabddcb468fbb63ce5635e54a4a": {
          "model_module": "@jupyter-widgets/base",
          "model_name": "LayoutModel",
          "state": {
            "_view_name": "LayoutView",
            "grid_template_rows": null,
            "right": null,
            "justify_content": null,
            "_view_module": "@jupyter-widgets/base",
            "overflow": null,
            "_model_module_version": "1.2.0",
            "_view_count": null,
            "flex_flow": null,
            "width": null,
            "min_width": null,
            "border": null,
            "align_items": null,
            "bottom": null,
            "_model_module": "@jupyter-widgets/base",
            "top": null,
            "grid_column": null,
            "overflow_y": null,
            "overflow_x": null,
            "grid_auto_flow": null,
            "grid_area": null,
            "grid_template_columns": null,
            "flex": null,
            "_model_name": "LayoutModel",
            "justify_items": null,
            "grid_row": null,
            "max_height": null,
            "align_content": null,
            "visibility": null,
            "align_self": null,
            "height": null,
            "min_height": null,
            "padding": null,
            "grid_auto_rows": null,
            "grid_gap": null,
            "max_width": null,
            "order": null,
            "_view_module_version": "1.2.0",
            "grid_template_areas": null,
            "object_position": null,
            "object_fit": null,
            "grid_auto_columns": null,
            "margin": null,
            "display": null,
            "left": null
          }
        },
        "96533f2cc3c9484ab3fee8b9b15bdc78": {
          "model_module": "@jupyter-widgets/controls",
          "model_name": "DescriptionStyleModel",
          "state": {
            "_view_name": "StyleView",
            "_model_name": "DescriptionStyleModel",
            "description_width": "",
            "_view_module": "@jupyter-widgets/base",
            "_model_module_version": "1.5.0",
            "_view_count": null,
            "_view_module_version": "1.2.0",
            "_model_module": "@jupyter-widgets/controls"
          }
        },
        "b8b801e9b06b468d9ec52ac423338832": {
          "model_module": "@jupyter-widgets/base",
          "model_name": "LayoutModel",
          "state": {
            "_view_name": "LayoutView",
            "grid_template_rows": null,
            "right": null,
            "justify_content": null,
            "_view_module": "@jupyter-widgets/base",
            "overflow": null,
            "_model_module_version": "1.2.0",
            "_view_count": null,
            "flex_flow": null,
            "width": null,
            "min_width": null,
            "border": null,
            "align_items": null,
            "bottom": null,
            "_model_module": "@jupyter-widgets/base",
            "top": null,
            "grid_column": null,
            "overflow_y": null,
            "overflow_x": null,
            "grid_auto_flow": null,
            "grid_area": null,
            "grid_template_columns": null,
            "flex": null,
            "_model_name": "LayoutModel",
            "justify_items": null,
            "grid_row": null,
            "max_height": null,
            "align_content": null,
            "visibility": null,
            "align_self": null,
            "height": null,
            "min_height": null,
            "padding": null,
            "grid_auto_rows": null,
            "grid_gap": null,
            "max_width": null,
            "order": null,
            "_view_module_version": "1.2.0",
            "grid_template_areas": null,
            "object_position": null,
            "object_fit": null,
            "grid_auto_columns": null,
            "margin": null,
            "display": null,
            "left": null
          }
        }
      }
    }
  },
  "cells": [
    {
      "cell_type": "markdown",
      "metadata": {
        "id": "DZ7rFp2gzuNS"
      },
      "source": [
        "## Start ai-docstring server\n",
        "Running flask app server in Google Colab for people without GPU"
      ]
    },
    {
      "cell_type": "markdown",
      "metadata": {
        "id": "d8Lyin2I3wHq"
      },
      "source": [
        "#### Clone github repository"
      ]
    },
    {
      "cell_type": "code",
      "metadata": {
        "id": "e_cu9igvzjcs",
        "colab": {
          "base_uri": "https://localhost:8080/"
        },
        "outputId": "af84e66c-51fd-462b-d2bf-8c0f258dba50"
      },
      "source": [
        "!git clone https://github.com/graykode/ai-docstring.git\n",
        "%cd ai-docstring\n",
        "!pip install -r server/requirements.txt"
      ],
      "execution_count": 1,
      "outputs": [
        {
          "output_type": "stream",
          "text": [
            "Cloning into 'ai-docstring'...\n",
            "remote: Enumerating objects: 266, done.\u001b[K\n",
            "remote: Counting objects: 100% (266/266), done.\u001b[K\n",
            "remote: Compressing objects: 100% (175/175), done.\u001b[K\n",
            "remote: Total 893 (delta 145), reused 172 (delta 86), pack-reused 627\u001b[K\n",
            "Receiving objects: 100% (893/893), 2.39 MiB | 28.79 MiB/s, done.\n",
            "Resolving deltas: 100% (529/529), done.\n",
            "/content/ai-docstring\n",
            "Collecting sentencepiece==0.1.91\n",
            "\u001b[?25l  Downloading https://files.pythonhosted.org/packages/d4/a4/d0a884c4300004a78cca907a6ff9a5e9fe4f090f5d95ab341c53d28cbc58/sentencepiece-0.1.91-cp36-cp36m-manylinux1_x86_64.whl (1.1MB)\n",
            "\u001b[K     |████████████████████████████████| 1.1MB 8.1MB/s \n",
            "\u001b[?25hCollecting transformers==3.4.0\n",
            "\u001b[?25l  Downloading https://files.pythonhosted.org/packages/2c/4e/4f1ede0fd7a36278844a277f8d53c21f88f37f3754abf76a5d6224f76d4a/transformers-3.4.0-py3-none-any.whl (1.3MB)\n",
            "\u001b[K     |████████████████████████████████| 1.3MB 25.1MB/s \n",
            "\u001b[?25hRequirement already satisfied: flask==1.1.2 in /usr/local/lib/python3.6/dist-packages (from -r server/requirements.txt (line 3)) (1.1.2)\n",
            "Requirement already satisfied: requests in /usr/local/lib/python3.6/dist-packages (from transformers==3.4.0->-r server/requirements.txt (line 2)) (2.23.0)\n",
            "Collecting sacremoses\n",
            "\u001b[?25l  Downloading https://files.pythonhosted.org/packages/7d/34/09d19aff26edcc8eb2a01bed8e98f13a1537005d31e95233fd48216eed10/sacremoses-0.0.43.tar.gz (883kB)\n",
            "\u001b[K     |████████████████████████████████| 890kB 39.9MB/s \n",
            "\u001b[?25hRequirement already satisfied: packaging in /usr/local/lib/python3.6/dist-packages (from transformers==3.4.0->-r server/requirements.txt (line 2)) (20.4)\n",
            "Collecting tokenizers==0.9.2\n",
            "\u001b[?25l  Downloading https://files.pythonhosted.org/packages/7c/a5/78be1a55b2ac8d6a956f0a211d372726e2b1dd2666bb537fea9b03abd62c/tokenizers-0.9.2-cp36-cp36m-manylinux1_x86_64.whl (2.9MB)\n",
            "\u001b[K     |████████████████████████████████| 2.9MB 51.1MB/s \n",
            "\u001b[?25hRequirement already satisfied: filelock in /usr/local/lib/python3.6/dist-packages (from transformers==3.4.0->-r server/requirements.txt (line 2)) (3.0.12)\n",
            "Requirement already satisfied: numpy in /usr/local/lib/python3.6/dist-packages (from transformers==3.4.0->-r server/requirements.txt (line 2)) (1.18.5)\n",
            "Requirement already satisfied: dataclasses; python_version < \"3.7\" in /usr/local/lib/python3.6/dist-packages (from transformers==3.4.0->-r server/requirements.txt (line 2)) (0.7)\n",
            "Requirement already satisfied: regex!=2019.12.17 in /usr/local/lib/python3.6/dist-packages (from transformers==3.4.0->-r server/requirements.txt (line 2)) (2019.12.20)\n",
            "Requirement already satisfied: tqdm>=4.27 in /usr/local/lib/python3.6/dist-packages (from transformers==3.4.0->-r server/requirements.txt (line 2)) (4.41.1)\n",
            "Requirement already satisfied: protobuf in /usr/local/lib/python3.6/dist-packages (from transformers==3.4.0->-r server/requirements.txt (line 2)) (3.12.4)\n",
            "Requirement already satisfied: Jinja2>=2.10.1 in /usr/local/lib/python3.6/dist-packages (from flask==1.1.2->-r server/requirements.txt (line 3)) (2.11.2)\n",
            "Requirement already satisfied: click>=5.1 in /usr/local/lib/python3.6/dist-packages (from flask==1.1.2->-r server/requirements.txt (line 3)) (7.1.2)\n",
            "Requirement already satisfied: Werkzeug>=0.15 in /usr/local/lib/python3.6/dist-packages (from flask==1.1.2->-r server/requirements.txt (line 3)) (1.0.1)\n",
            "Requirement already satisfied: itsdangerous>=0.24 in /usr/local/lib/python3.6/dist-packages (from flask==1.1.2->-r server/requirements.txt (line 3)) (1.1.0)\n",
            "Requirement already satisfied: chardet<4,>=3.0.2 in /usr/local/lib/python3.6/dist-packages (from requests->transformers==3.4.0->-r server/requirements.txt (line 2)) (3.0.4)\n",
            "Requirement already satisfied: idna<3,>=2.5 in /usr/local/lib/python3.6/dist-packages (from requests->transformers==3.4.0->-r server/requirements.txt (line 2)) (2.10)\n",
            "Requirement already satisfied: urllib3!=1.25.0,!=1.25.1,<1.26,>=1.21.1 in /usr/local/lib/python3.6/dist-packages (from requests->transformers==3.4.0->-r server/requirements.txt (line 2)) (1.24.3)\n",
            "Requirement already satisfied: certifi>=2017.4.17 in /usr/local/lib/python3.6/dist-packages (from requests->transformers==3.4.0->-r server/requirements.txt (line 2)) (2020.6.20)\n",
            "Requirement already satisfied: six in /usr/local/lib/python3.6/dist-packages (from sacremoses->transformers==3.4.0->-r server/requirements.txt (line 2)) (1.15.0)\n",
            "Requirement already satisfied: joblib in /usr/local/lib/python3.6/dist-packages (from sacremoses->transformers==3.4.0->-r server/requirements.txt (line 2)) (0.17.0)\n",
            "Requirement already satisfied: pyparsing>=2.0.2 in /usr/local/lib/python3.6/dist-packages (from packaging->transformers==3.4.0->-r server/requirements.txt (line 2)) (2.4.7)\n",
            "Requirement already satisfied: setuptools in /usr/local/lib/python3.6/dist-packages (from protobuf->transformers==3.4.0->-r server/requirements.txt (line 2)) (50.3.2)\n",
            "Requirement already satisfied: MarkupSafe>=0.23 in /usr/local/lib/python3.6/dist-packages (from Jinja2>=2.10.1->flask==1.1.2->-r server/requirements.txt (line 3)) (1.1.1)\n",
            "Building wheels for collected packages: sacremoses\n",
            "  Building wheel for sacremoses (setup.py) ... \u001b[?25l\u001b[?25hdone\n",
            "  Created wheel for sacremoses: filename=sacremoses-0.0.43-cp36-none-any.whl size=893257 sha256=576bde7e9db91b630dc0bf31f4216e46f5605711b2503875927f558d9a7756ea\n",
            "  Stored in directory: /root/.cache/pip/wheels/29/3c/fd/7ce5c3f0666dab31a50123635e6fb5e19ceb42ce38d4e58f45\n",
            "Successfully built sacremoses\n",
            "Installing collected packages: sentencepiece, sacremoses, tokenizers, transformers\n",
            "Successfully installed sacremoses-0.0.43 sentencepiece-0.1.91 tokenizers-0.9.2 transformers-3.4.0\n"
          ],
          "name": "stdout"
        }
      ]
    },
    {
      "cell_type": "markdown",
      "metadata": {
        "id": "PFKn5QZr0dQx"
      },
      "source": [
        "#### Download model weights\n",
        "\n",
        "Download the two weights of model from the google drive through the gdown module. [Added model](https://drive.google.com/uc?id=1YrkwfM-0VBCJaa9NYaXUQPODdGPsmQY4) : A model trained Code2NL on Python using pre-trained CodeBERT (Feng at al, 2020)."
      ]
    },
    {
      "cell_type": "code",
      "metadata": {
        "id": "P9-EBpxt0Dp0",
        "colab": {
          "base_uri": "https://localhost:8080/"
        },
        "outputId": "96c9d1d0-8790-45f8-9d46-195573340f7a"
      },
      "source": [
        "!pip install gdown \\\n",
        "  && gdown \"https://drive.google.com/uc?id=1YrkwfM-0VBCJaa9NYaXUQPODdGPsmQY4\" \\\n",
        "  -O server/pytorch_model.bin"
      ],
      "execution_count": 2,
      "outputs": [
        {
          "output_type": "stream",
          "text": [
            "Requirement already satisfied: gdown in /usr/local/lib/python3.6/dist-packages (3.6.4)\n",
            "Requirement already satisfied: six in /usr/local/lib/python3.6/dist-packages (from gdown) (1.15.0)\n",
            "Requirement already satisfied: tqdm in /usr/local/lib/python3.6/dist-packages (from gdown) (4.41.1)\n",
            "Requirement already satisfied: requests in /usr/local/lib/python3.6/dist-packages (from gdown) (2.23.0)\n",
            "Requirement already satisfied: urllib3!=1.25.0,!=1.25.1,<1.26,>=1.21.1 in /usr/local/lib/python3.6/dist-packages (from requests->gdown) (1.24.3)\n",
            "Requirement already satisfied: idna<3,>=2.5 in /usr/local/lib/python3.6/dist-packages (from requests->gdown) (2.10)\n",
            "Requirement already satisfied: chardet<4,>=3.0.2 in /usr/local/lib/python3.6/dist-packages (from requests->gdown) (3.0.4)\n",
            "Requirement already satisfied: certifi>=2017.4.17 in /usr/local/lib/python3.6/dist-packages (from requests->gdown) (2020.6.20)\n",
            "Downloading...\n",
            "From: https://drive.google.com/uc?id=1YrkwfM-0VBCJaa9NYaXUQPODdGPsmQY4\n",
            "To: /content/ai-docstring/server/pytorch_model.bin\n",
            "707MB [00:02, 242MB/s]\n"
          ],
          "name": "stdout"
        }
      ]
    },
    {
      "cell_type": "markdown",
      "metadata": {
        "id": "org4Gqdv3iUu"
      },
      "source": [
        "#### ngrok setting with flask\n",
        "\n",
        "Before starting the server, you need to configure ngrok to open this notebook to the outside. I have referred [this jupyter notebook](https://github.com/alievk/avatarify/blob/master/avatarify.ipynb) in detail."
      ]
    },
    {
      "cell_type": "code",
      "metadata": {
        "id": "lZA3kuuG1Crj",
        "colab": {
          "base_uri": "https://localhost:8080/"
        },
        "outputId": "be1ff345-88c5-49ca-9469-b04f53e23ec7"
      },
      "source": [
        "!pip install flask-ngrok"
      ],
      "execution_count": 3,
      "outputs": [
        {
          "output_type": "stream",
          "text": [
            "Collecting flask-ngrok\n",
            "  Downloading https://files.pythonhosted.org/packages/af/6c/f54cb686ad1129e27d125d182f90f52b32f284e6c8df58c1bae54fa1adbc/flask_ngrok-0.0.25-py3-none-any.whl\n",
            "Requirement already satisfied: requests in /usr/local/lib/python3.6/dist-packages (from flask-ngrok) (2.23.0)\n",
            "Requirement already satisfied: Flask>=0.8 in /usr/local/lib/python3.6/dist-packages (from flask-ngrok) (1.1.2)\n",
            "Requirement already satisfied: chardet<4,>=3.0.2 in /usr/local/lib/python3.6/dist-packages (from requests->flask-ngrok) (3.0.4)\n",
            "Requirement already satisfied: idna<3,>=2.5 in /usr/local/lib/python3.6/dist-packages (from requests->flask-ngrok) (2.10)\n",
            "Requirement already satisfied: urllib3!=1.25.0,!=1.25.1,<1.26,>=1.21.1 in /usr/local/lib/python3.6/dist-packages (from requests->flask-ngrok) (1.24.3)\n",
            "Requirement already satisfied: certifi>=2017.4.17 in /usr/local/lib/python3.6/dist-packages (from requests->flask-ngrok) (2020.6.20)\n",
            "Requirement already satisfied: Werkzeug>=0.15 in /usr/local/lib/python3.6/dist-packages (from Flask>=0.8->flask-ngrok) (1.0.1)\n",
            "Requirement already satisfied: Jinja2>=2.10.1 in /usr/local/lib/python3.6/dist-packages (from Flask>=0.8->flask-ngrok) (2.11.2)\n",
            "Requirement already satisfied: click>=5.1 in /usr/local/lib/python3.6/dist-packages (from Flask>=0.8->flask-ngrok) (7.1.2)\n",
            "Requirement already satisfied: itsdangerous>=0.24 in /usr/local/lib/python3.6/dist-packages (from Flask>=0.8->flask-ngrok) (1.1.0)\n",
            "Requirement already satisfied: MarkupSafe>=0.23 in /usr/local/lib/python3.6/dist-packages (from Jinja2>=2.10.1->Flask>=0.8->flask-ngrok) (1.1.1)\n",
            "Installing collected packages: flask-ngrok\n",
            "Successfully installed flask-ngrok-0.0.25\n"
          ],
          "name": "stdout"
        }
      ]
    },
    {
      "cell_type": "markdown",
      "metadata": {
        "id": "hR78FRCMcqrZ"
      },
      "source": [
        "Go to https://dashboard.ngrok.com/auth/your-authtoken (sign up if required), copy your authtoken and put it below.\n",
        "\n"
      ]
    },
    {
      "cell_type": "code",
      "metadata": {
        "id": "L_mInbOKcoc2"
      },
      "source": [
        "# Paste your authtoken here in quotes\n",
        "authtoken = \"1kYudX4tR8jXABUYgInnAC5kKPV_3u1GacmwUXFtPAacQ4Vcu\""
      ],
      "execution_count": 4,
      "outputs": []
    },
    {
      "cell_type": "markdown",
      "metadata": {
        "id": "QwCN4YFUc0M8"
      },
      "source": [
        "Set your region\n",
        "\n",
        "Code | Region\n",
        "--- | ---\n",
        "us | United States\n",
        "eu | Europe\n",
        "ap | Asia/Pacific\n",
        "au | Australia\n",
        "sa | South America\n",
        "jp | Japan\n",
        "in | India"
      ]
    },
    {
      "cell_type": "code",
      "metadata": {
        "id": "p4LSNN2xc0dQ"
      },
      "source": [
        "# Set your region here in quotes\n",
        "region = \"jp\"\n",
        "\n",
        "# Input and output ports for communication\n",
        "local_in_port = 5000\n",
        "local_out_port = 5000"
      ],
      "execution_count": 5,
      "outputs": []
    },
    {
      "cell_type": "code",
      "metadata": {
        "id": "kg56PVrOdhi1"
      },
      "source": [
        "config =\\\n",
        "f\"\"\"\n",
        "authtoken: {authtoken}\n",
        "region: {region}\n",
        "console_ui: False\n",
        "tunnels:\n",
        "  input:\n",
        "    addr: {local_in_port}\n",
        "    proto: http    \n",
        "  output:\n",
        "    addr: {local_out_port}\n",
        "    proto: http\n",
        "\"\"\"\n",
        "\n",
        "with open('ngrok.conf', 'w') as f:\n",
        "  f.write(config)"
      ],
      "execution_count": 6,
      "outputs": []
    },
    {
      "cell_type": "code",
      "metadata": {
        "id": "hrWDrw_YdjIy"
      },
      "source": [
        "import time\n",
        "from subprocess import Popen, PIPE\n",
        "\n",
        "# (Re)Open tunnel\n",
        "ps = Popen('./scripts/open_tunnel_ngrok.sh', stdout=PIPE, stderr=PIPE)\n",
        "time.sleep(3)"
      ],
      "execution_count": 7,
      "outputs": []
    },
    {
      "cell_type": "markdown",
      "metadata": {
        "id": "cEZ-O0wz74OJ"
      },
      "source": [
        "#### Run you server!"
      ]
    },
    {
      "cell_type": "code",
      "metadata": {
        "colab": {
          "base_uri": "https://localhost:8080/"
        },
        "id": "D9RQAVPKhazi",
        "outputId": "b9947566-bf3a-479b-9f39-fae35d03ee5b"
      },
      "source": [
        "%cd server"
      ],
      "execution_count": 8,
      "outputs": [
        {
          "output_type": "stream",
          "text": [
            "/content/ai-docstring/server\n"
          ],
          "name": "stdout"
        }
      ]
    },
    {
      "cell_type": "code",
      "metadata": {
        "id": "7PRkeYTL8Y_6"
      },
      "source": [
        "import os\n",
        "import json\n",
        "import time\n",
        "import torch\n",
        "import argparse\n",
        "import torch.nn as nn\n",
        "from model import Seq2Seq\n",
        "from flask import Flask, jsonify, request\n",
        "from utils import Example, convert_examples_to_features, logger\n",
        "from transformers import RobertaConfig, RobertaModel, RobertaTokenizer\n",
        "from torch.utils.data import TensorDataset, DataLoader, SequentialSampler"
      ],
      "execution_count": 9,
      "outputs": []
    },
    {
      "cell_type": "code",
      "metadata": {
        "id": "CiJKucX17qb4"
      },
      "source": [
        "def inference(data):\n",
        "    # Calculate bleu\n",
        "    eval_sampler = SequentialSampler(data)\n",
        "    eval_dataloader = DataLoader(data, sampler=eval_sampler, batch_size=len(data))\n",
        "\n",
        "    args.model.eval()\n",
        "    p = []\n",
        "    for batch in eval_dataloader:\n",
        "        batch = tuple(t.to(args.device) for t in batch)\n",
        "        source_ids, source_mask = batch\n",
        "        with torch.no_grad():\n",
        "            preds = args.model(source_ids=source_ids, source_mask=source_mask)\n",
        "            for pred in preds:\n",
        "                t = pred[0].cpu().numpy()\n",
        "                t = list(t)\n",
        "                if 0 in t:\n",
        "                    t = t[: t.index(0)]\n",
        "                text = args.tokenizer.decode(t, clean_up_tokenization_spaces=False)\n",
        "                p.append(text)\n",
        "    return (p, source_ids.shape[-1])\n",
        "\n",
        "\n",
        "def get_features(examples):\n",
        "    features = convert_examples_to_features(\n",
        "        examples, args.tokenizer, args, stage=\"test\"\n",
        "    )\n",
        "    all_source_ids = torch.tensor(\n",
        "        [f.source_ids[: args.max_source_length] for f in features], dtype=torch.long\n",
        "    )\n",
        "    all_source_mask = torch.tensor(\n",
        "        [f.source_mask[: args.max_source_length] for f in features], dtype=torch.long\n",
        "    )\n",
        "    return TensorDataset(all_source_ids, all_source_mask)\n",
        "\n",
        "\n",
        "def build_model(model_class, config, tokenizer):\n",
        "    encoder = model_class(config=config)\n",
        "    decoder_layer = nn.TransformerDecoderLayer(\n",
        "        d_model=config.hidden_size, nhead=config.num_attention_heads\n",
        "    )\n",
        "    decoder = nn.TransformerDecoder(decoder_layer, num_layers=6)\n",
        "    model = Seq2Seq(\n",
        "        encoder=encoder,\n",
        "        decoder=decoder,\n",
        "        config=config,\n",
        "        beam_size=args.beam_size,\n",
        "        max_length=args.max_target_length,\n",
        "        sos_id=tokenizer.cls_token_id,\n",
        "        eos_id=tokenizer.sep_token_id,\n",
        "    )\n",
        "\n",
        "    assert os.path.exists(\"pytorch_model.bin\"), \"Weight is not downloaded.\"\n",
        "\n",
        "    model.load_state_dict(\n",
        "        torch.load(\n",
        "            \"pytorch_model.bin\",\n",
        "            map_location=torch.device(\"cpu\"),\n",
        "        ),\n",
        "        strict=False,\n",
        "    )\n",
        "    return model\n",
        "\n",
        "\n",
        "def create_app():\n",
        "    @app.route(\"/\")\n",
        "    def index():\n",
        "        return jsonify(hello=\"world\")\n",
        "\n",
        "    @app.route(\"/summary\", methods=[\"POST\"])\n",
        "    def summary():\n",
        "        if request.method == \"POST\":\n",
        "            payload = request.get_json()\n",
        "            example = [\n",
        "                Example(\n",
        "                    source=payload[\"code\"],\n",
        "                    target=None,\n",
        "                )\n",
        "            ]\n",
        "\n",
        "            t0 = time.time()\n",
        "            message, length = inference(data=get_features(example))\n",
        "            t1 = time.time()\n",
        "            result = {\n",
        "                'message' : message,\n",
        "                'time' : (t1 - t0),\n",
        "                'device' : args.device_name,\n",
        "                'length' : length\n",
        "            }\n",
        "            logger.info(json.dumps(result, indent=4))\n",
        "            return jsonify(**result)\n",
        "\n",
        "    @app.route(\"/tokenizer\", methods=[\"POST\"])\n",
        "    def tokenizer():\n",
        "        if request.method == \"POST\":\n",
        "            payload = request.get_json()\n",
        "            tokens = args.tokenizer.tokenize(payload[\"code\"])\n",
        "            return jsonify(tokens=tokens)\n",
        "\n",
        "    return app"
      ],
      "execution_count": 10,
      "outputs": []
    },
    {
      "cell_type": "markdown",
      "metadata": {
        "id": "Esf4r-Ai8cG3"
      },
      "source": [
        "**Set enviroment**"
      ]
    },
    {
      "cell_type": "code",
      "metadata": {
        "id": "mR7gVmSoSUoy"
      },
      "source": [
        "import easydict \n",
        "\n",
        "args = easydict.EasyDict({\n",
        "    'max_source_length': 512, \n",
        "    'max_target_length': 128,\n",
        "    'beam_size': 10,\n",
        "    'device' : torch.device(\"cuda\" if torch.cuda.is_available() else \"cpu\"),\n",
        "    'device_name' : \"cuda\" if torch.cuda.is_available() else \"cpu\"\n",
        "})"
      ],
      "execution_count": 11,
      "outputs": []
    },
    {
      "cell_type": "code",
      "metadata": {
        "id": "e8dk5RwvToOv",
        "colab": {
          "base_uri": "https://localhost:8080/",
          "height": 741,
          "referenced_widgets": [
            "63f823cffa35493691ea3664b8699e46",
            "8fa0957de297423590b944fd17f54907",
            "2826cd7e71f74f40ab382942ade1fc41",
            "e32e8965f2fe4656a2d59ed5c655659d",
            "628b953cff414ad394f4f2062db91895",
            "80a7e8e138a74d33b26f80cbbb6b67c9",
            "c3a72d8c88fd4335ae41d40c69ced519",
            "b81ea8faedc4495089367ddfd5c53816",
            "f5ffdeb8869743bc8d38c8dec5f643aa",
            "e0003ceea25b406c80d113842423b55a",
            "8cfbe640681e498f95cc2060ccac8830",
            "7a88cb93bb7d4018b0720d39dd0aeae6",
            "b0ac37aff24f46f783f90e1b55e5c9b2",
            "25c90514cb99498bb920252a4da9811e",
            "db32c8fbb3cf4aedb0c5f61c8b6b01e7",
            "5293706c515d4126bc70af096aa8923b",
            "3cd6258e24864660af3da4a5ffc66089",
            "11440034a8e24f0293c7c40124cb740c",
            "a529221c50fe4d4f91fd9ab1dfae29fd",
            "186c578005e3408d8b2c58c90c7665db",
            "8758786b90fb41408c0d26b436760f40",
            "66a6bde10d1347b1a585c511285a33db",
            "1c72366b709242c684df29f6abb4a855",
            "b4b5656dbc82467db716c9179510e092",
            "17727b6ebece424e9b3a919fa5077e04",
            "a604290854b94eee9002e4246f0eb290",
            "72b72caa5fcf4d6a8ee8f7ad1f6beb1e",
            "9fa1932ff2744e4a93b8ff83f3d0f78f",
            "480ae2faecc849a5b6c27c4721424737",
            "a2c848dfdb04465196b22f557462c5bc",
            "4850e29cdf5a42398ecefcb3a613a410",
            "7af94766fbc74a479866174a721241df",
            "07afa8e2685044048ecbf143f9cd51a6",
            "9f325989738b4359a6e68949aa926499",
            "e000504bffe64747a93a8f45b366f92a",
            "5fdb90e5e9b14c689781ee1c6c6d585d",
            "606617487a094d14bbad2dde22570bdd",
            "06137aabddcb468fbb63ce5635e54a4a",
            "96533f2cc3c9484ab3fee8b9b15bdc78",
            "b8b801e9b06b468d9ec52ac423338832"
          ]
        },
        "outputId": "6ffd2097-6914-4649-ff2a-e11e138793c7"
      },
      "source": [
        "# flask_ngrok_example.py\n",
        "from flask_ngrok import run_with_ngrok\n",
        "\n",
        "app = Flask(__name__)\n",
        "run_with_ngrok(app)  # Start ngrok when app is run\n",
        "\n",
        "config = RobertaConfig.from_pretrained(\"microsoft/codebert-base\")\n",
        "args.tokenizer = RobertaTokenizer.from_pretrained(\n",
        "    \"microsoft/codebert-base\", do_lower_case=False\n",
        ")\n",
        "\n",
        "args.model = build_model(\n",
        "    model_class=RobertaModel, config=config, tokenizer=args.tokenizer\n",
        ").to(args.device)\n",
        "\n",
        "app = create_app()\n",
        "app.run()"
      ],
      "execution_count": null,
      "outputs": [
        {
          "output_type": "stream",
          "text": [
            "11/20/2020 16:46:55 - INFO - filelock -   Lock 139986594232024 acquired on /root/.cache/torch/transformers/1b62771d5f5169b34713b0af1ab85d80e11f7b1812fbf3ee7d03a866c5f58e72.06eb31f0a63f4e8a136733ccac422f0abf9ffa87c3e61104b57e7075a704d008.lock\n"
          ],
          "name": "stderr"
        },
        {
          "output_type": "display_data",
          "data": {
            "application/vnd.jupyter.widget-view+json": {
              "model_id": "63f823cffa35493691ea3664b8699e46",
              "version_minor": 0,
              "version_major": 2
            },
            "text/plain": [
              "HBox(children=(FloatProgress(value=0.0, description='Downloading', max=498.0, style=ProgressStyle(description_…"
            ]
          },
          "metadata": {
            "tags": []
          }
        },
        {
          "output_type": "stream",
          "text": [
            "11/20/2020 16:46:55 - INFO - filelock -   Lock 139986594232024 released on /root/.cache/torch/transformers/1b62771d5f5169b34713b0af1ab85d80e11f7b1812fbf3ee7d03a866c5f58e72.06eb31f0a63f4e8a136733ccac422f0abf9ffa87c3e61104b57e7075a704d008.lock\n"
          ],
          "name": "stderr"
        },
        {
          "output_type": "stream",
          "text": [
            "\n"
          ],
          "name": "stdout"
        },
        {
          "output_type": "stream",
          "text": [
            "11/20/2020 16:46:56 - INFO - filelock -   Lock 139986594234096 acquired on /root/.cache/torch/transformers/aca4dbdf4f074d4e071c2664901fec33c8aa69c35aa0101bc669ed4b44d1f6c3.6a4061e8fc00057d21d80413635a86fdcf55b6e7594ad9e25257d2f99a02f4be.lock\n"
          ],
          "name": "stderr"
        },
        {
          "output_type": "display_data",
          "data": {
            "application/vnd.jupyter.widget-view+json": {
              "model_id": "f5ffdeb8869743bc8d38c8dec5f643aa",
              "version_minor": 0,
              "version_major": 2
            },
            "text/plain": [
              "HBox(children=(FloatProgress(value=0.0, description='Downloading', max=898822.0, style=ProgressStyle(descripti…"
            ]
          },
          "metadata": {
            "tags": []
          }
        },
        {
          "output_type": "stream",
          "text": [
            "11/20/2020 16:46:56 - INFO - filelock -   Lock 139986594234096 released on /root/.cache/torch/transformers/aca4dbdf4f074d4e071c2664901fec33c8aa69c35aa0101bc669ed4b44d1f6c3.6a4061e8fc00057d21d80413635a86fdcf55b6e7594ad9e25257d2f99a02f4be.lock\n"
          ],
          "name": "stderr"
        },
        {
          "output_type": "stream",
          "text": [
            "\n"
          ],
          "name": "stdout"
        },
        {
          "output_type": "stream",
          "text": [
            "11/20/2020 16:46:57 - INFO - filelock -   Lock 139986594231016 acquired on /root/.cache/torch/transformers/779a2f0c38ba2ff65d9a3ee23e58db9568f44a20865c412365e3dc540f01743f.70bec105b4158ed9a1747fea67a43f5dee97855c64d62b6ec3742f4cfdb5feda.lock\n"
          ],
          "name": "stderr"
        },
        {
          "output_type": "display_data",
          "data": {
            "application/vnd.jupyter.widget-view+json": {
              "model_id": "3cd6258e24864660af3da4a5ffc66089",
              "version_minor": 0,
              "version_major": 2
            },
            "text/plain": [
              "HBox(children=(FloatProgress(value=0.0, description='Downloading', max=456318.0, style=ProgressStyle(descripti…"
            ]
          },
          "metadata": {
            "tags": []
          }
        },
        {
          "output_type": "stream",
          "text": [
            "11/20/2020 16:46:57 - INFO - filelock -   Lock 139986594231016 released on /root/.cache/torch/transformers/779a2f0c38ba2ff65d9a3ee23e58db9568f44a20865c412365e3dc540f01743f.70bec105b4158ed9a1747fea67a43f5dee97855c64d62b6ec3742f4cfdb5feda.lock\n"
          ],
          "name": "stderr"
        },
        {
          "output_type": "stream",
          "text": [
            "\n"
          ],
          "name": "stdout"
        },
        {
          "output_type": "stream",
          "text": [
            "11/20/2020 16:46:58 - INFO - filelock -   Lock 139986594233648 acquired on /root/.cache/torch/transformers/5a191080da4f00859b5d3d29529f57894583e00ab07b7c940d65c33db4b25d4d.16f949018cf247a2ea7465a74ca9a292212875e5fd72f969e0807011e7f192e4.lock\n"
          ],
          "name": "stderr"
        },
        {
          "output_type": "display_data",
          "data": {
            "application/vnd.jupyter.widget-view+json": {
              "model_id": "17727b6ebece424e9b3a919fa5077e04",
              "version_minor": 0,
              "version_major": 2
            },
            "text/plain": [
              "HBox(children=(FloatProgress(value=0.0, description='Downloading', max=150.0, style=ProgressStyle(description_…"
            ]
          },
          "metadata": {
            "tags": []
          }
        },
        {
          "output_type": "stream",
          "text": [
            "11/20/2020 16:46:58 - INFO - filelock -   Lock 139986594233648 released on /root/.cache/torch/transformers/5a191080da4f00859b5d3d29529f57894583e00ab07b7c940d65c33db4b25d4d.16f949018cf247a2ea7465a74ca9a292212875e5fd72f969e0807011e7f192e4.lock\n"
          ],
          "name": "stderr"
        },
        {
          "output_type": "stream",
          "text": [
            "\n"
          ],
          "name": "stdout"
        },
        {
          "output_type": "stream",
          "text": [
            "11/20/2020 16:46:59 - INFO - filelock -   Lock 139986594233648 acquired on /root/.cache/torch/transformers/1b4723c5fb2d933e11c399450ea233aaf33f093b5cbef3ec864624735380e490.70b5dbd5d3b9b4c9bfb3d1f6464291ff52f6a8d96358899aa3834e173b45092d.lock\n"
          ],
          "name": "stderr"
        },
        {
          "output_type": "display_data",
          "data": {
            "application/vnd.jupyter.widget-view+json": {
              "model_id": "07afa8e2685044048ecbf143f9cd51a6",
              "version_minor": 0,
              "version_major": 2
            },
            "text/plain": [
              "HBox(children=(FloatProgress(value=0.0, description='Downloading', max=25.0, style=ProgressStyle(description_w…"
            ]
          },
          "metadata": {
            "tags": []
          }
        },
        {
          "output_type": "stream",
          "text": [
            "11/20/2020 16:46:59 - INFO - filelock -   Lock 139986594233648 released on /root/.cache/torch/transformers/1b4723c5fb2d933e11c399450ea233aaf33f093b5cbef3ec864624735380e490.70b5dbd5d3b9b4c9bfb3d1f6464291ff52f6a8d96358899aa3834e173b45092d.lock\n"
          ],
          "name": "stderr"
        },
        {
          "output_type": "stream",
          "text": [
            "\n",
            " * Serving Flask app \"__main__\" (lazy loading)\n",
            " * Environment: production\n",
            "\u001b[31m   WARNING: This is a development server. Do not use it in a production deployment.\u001b[0m\n",
            "\u001b[2m   Use a production WSGI server instead.\u001b[0m\n",
            " * Debug mode: off\n"
          ],
          "name": "stdout"
        },
        {
          "output_type": "stream",
          "text": [
            "11/20/2020 16:47:17 - INFO - werkzeug -    * Running on http://127.0.0.1:5000/ (Press CTRL+C to quit)\n"
          ],
          "name": "stderr"
        },
        {
          "output_type": "stream",
          "text": [
            " * Running on http://a5a9029383b4.ngrok.io\n",
            " * Traffic stats available on http://127.0.0.1:4040\n"
          ],
          "name": "stdout"
        },
        {
          "output_type": "stream",
          "text": [
            "11/20/2020 16:49:15 - INFO - utils -   {\n",
            "    \"message\": [\n",
            "        \"Convert a string of XML to a list of URLs .\"\n",
            "    ],\n",
            "    \"time\": 0.7706730365753174,\n",
            "    \"device\": \"cuda\",\n",
            "    \"length\": 512\n",
            "}\n",
            "11/20/2020 16:49:15 - INFO - werkzeug -   127.0.0.1 - - [20/Nov/2020 16:49:15] \"\u001b[37mPOST /summary HTTP/1.1\u001b[0m\" 200 -\n"
          ],
          "name": "stderr"
        }
      ]
    },
    {
      "cell_type": "markdown",
      "metadata": {
        "id": "DXkBcO_sU_VN"
      },
      "source": [
        "## Set `ai-docstring` configure in vscode extension setting.\n",
        "![Screen Shot 2020-11-21 at 1.47.28 AM.png](data:image/png;base64,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)\n",
        "- `ai-docstring.ServerEndpoint`: endpoint address accessible to the server."
      ]
    }
  ]
}